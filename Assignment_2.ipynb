{
 "cells": [
  {
   "cell_type": "markdown",
   "metadata": {
    "id": "3GM9DBN-Qz3k"
   },
   "source": [
    "# Assignment 2\n",
    "\n",
    "**Due to**: 23/12/2021 (dd/mm/yyyy)\n",
    "\n",
    "**Credits**: Andrea Galassi, Federico Ruggeri, Paolo Torroni\n",
    "\n",
    "**Summary**: Fact checking, Neural Languange Inference (**NLI**)"
   ]
  },
  {
   "cell_type": "markdown",
   "metadata": {
    "id": "tO_-4CZeRCO7"
   },
   "source": [
    "# Intro\n",
    "\n",
    "This assignment is centred on a particular and emerging NLP task, formally known as **fact checking** (or fake checking). As AI techniques become more and more powerful, reaching amazing results, such as image and text generation, it is more than ever necessary to build tools able to distinguish what is real from what is fake.\n",
    "\n",
    "Here we focus on a small portion of the whole fact checking problem, which aims to determine whether a given statement (fact) conveys a trustworthy information or not. \n",
    "\n",
    "More precisely, given a set of evidences and a fact to verify, we would like our model to correctly predict whether the fact is true or fake.\n",
    "\n",
    "In particular, we will see:\n",
    "\n",
    "*   Dataset preparation (analysis and pre-processing)\n",
    "*   Problem formulation: multi-input binary classification\n",
    "*   Defining an evaluation method\n",
    "*   Simple sentence embedding\n",
    "*   Neural building blocks\n",
    "*   Neural architecture extension"
   ]
  },
  {
   "cell_type": "markdown",
   "metadata": {
    "id": "hGDwg78PS_uy"
   },
   "source": [
    "# The FEVER dataset\n",
    "\n",
    "First of all, we need to choose a dataset. In this assignment we will rely on the [FEVER dataset](https://fever.ai).\n",
    "\n",
    "The dataset is about facts taken from Wikipedia documents that have to be verified. In particular, facts could face manual modifications in order to define fake information or to give different formulations of the same concept.\n",
    "\n",
    "The dataset consists of 185,445 claims manually verified against the introductory sections of Wikipedia pages and classified as ```Supported```, ```Refuted``` or ```NotEnoughInfo```. For the first two classes, systems and annotators need to also return the combination of sentences forming the necessary evidence supporting or refuting the claim."
   ]
  },
  {
   "cell_type": "markdown",
   "metadata": {
    "id": "4Oa5FpVpT7p4"
   },
   "source": [
    "## 2.1 Dataset structure\n",
    "\n",
    "Relevant data is divided into two file types. Information concerning the fact to verify, its verdict and associated supporting/opposing statements are stored in **.jsonl** format. In particular, each JSON element is a python dictionary with the following relevant fields:\n",
    "\n",
    "*    **ID**: ID associated to the fact to verify.\n",
    "\n",
    "*    **Verifiable**: whether the fact has been verified or not: ```VERIFIABLE``` or ```NOT VERIFIABLE```.\n",
    "    \n",
    "*    **Label**: the final verdict on the fact to verify: ```SUPPORTS```, ```REFUTES``` or ```NOT ENOUGH INFO```.\n",
    "    \n",
    "*    **Claim**: the fact to verify.\n",
    "    \n",
    "*    **Evidence**: a nested list of document IDs along with the sentence ID that is associated to the fact to verify. In particular, each list element is a tuple of four elements: the first two are internal annotator IDs that can be safely ignored; the third term is the document ID (called URL) and the last one is the sentence number (ID) in the pointed document to consider.\n",
    "\n",
    "**Some Examples**\n",
    "\n",
    "---\n",
    "\n",
    "**Verifiable**\n",
    "\n",
    "```\n",
    "{\"id\": 202314, \"verifiable\": \"VERIFIABLE\", \"label\": \"REFUTES\", \"claim\": \"The New Jersey Turnpike has zero shoulders.\", \"evidence\": [[[238335, 240393, \"New_Jersey_Turnpike\", 15]]]}\n",
    "```\n",
    "\n",
    "---\n",
    "\n",
    "**Not Verifiable**\n",
    "\n",
    "```\n",
    "{\"id\": 113501, \"verifiable\": \"NOT VERIFIABLE\", \"label\": \"NOT ENOUGH INFO\", \"claim\": \"Grease had bad reviews.\", \"evidence\": [[[133128, null, null, null]]]}\n",
    "```\n",
    "\n",
    "---"
   ]
  },
  {
   "cell_type": "markdown",
   "metadata": {
    "id": "nex_8UM4VWuY"
   },
   "source": [
    "## 2.2 Some simplifications and pre-processing\n",
    "\n",
    "We are only interested in verifiable facts. Thus, we can filter out all non-verifiable claims.\n",
    "\n",
    "Additionally, the current dataset format does not contain all necessary information for our classification purposes. In particular, we need to download Wikipedia documents and replace reported evidence IDs with the corresponding text.\n",
    "\n",
    "Don't worry about that! We are providing you the already pre-processed dataset so that you can concentrate on the classification pipeline (pre-processing, model definition, evaluation and training).\n",
    "\n",
    "You can download the zip file containing all set splits (train, validation and test) of the FEVER dataset by clicking on this [link](https://drive.google.com/file/d/1wArZhF9_SHW17WKNGeLmX-QTYw9Zscl1/view?usp=sharing). Alternatively, run the below code cell to automatically download it on this notebook.\n",
    "\n",
    "**Note**: each dataset split is in .csv format. Feel free to inspect the whole dataset!"
   ]
  },
  {
   "cell_type": "code",
   "execution_count": 32,
   "metadata": {
    "colab": {
     "base_uri": "https://localhost:8080/"
    },
    "id": "BspxZcRjW0NG",
    "outputId": "23dd2947-797f-4d0a-e307-7666d1e2e7ae"
   },
   "outputs": [],
   "source": [
    "import os\n",
    "import requests\n",
    "import zipfile\n",
    "\n",
    "def save_response_content(response, destination):\n",
    "    CHUNK_SIZE = 32768\n",
    "\n",
    "    with open(destination, \"wb\") as f:\n",
    "        for chunk in response.iter_content(CHUNK_SIZE):\n",
    "            if chunk: # filter out keep-alive new chunks\n",
    "                f.write(chunk)\n",
    "\n",
    "def download_data(data_path):\n",
    "    toy_data_path = os.path.join(data_path, 'fever_data.zip')\n",
    "    toy_data_url_id = \"1wArZhF9_SHW17WKNGeLmX-QTYw9Zscl1\"\n",
    "    toy_url = \"https://docs.google.com/uc?export=download\"\n",
    "\n",
    "    if not os.path.exists(data_path):\n",
    "        os.makedirs(data_path)\n",
    "\n",
    "    if not os.path.exists(toy_data_path):\n",
    "        print(\"Downloading FEVER data splits...\")\n",
    "        \n",
    "        with requests.Session() as current_session:\n",
    "            response = current_session.get(toy_url,\n",
    "                                   params={'id': toy_data_url_id},\n",
    "                                   stream=True)\n",
    "        save_response_content(response, toy_data_path)\n",
    "        print(\"Download completed!\")\n",
    "\n",
    "        print(\"Extracting dataset...\")\n",
    "        with zipfile.ZipFile(toy_data_path) as loaded_zip:\n",
    "            loaded_zip.extractall(data_path)\n",
    "        print(\"Extraction completed!\")\n",
    "\n",
    "download_data('dataset')"
   ]
  },
  {
   "cell_type": "code",
   "execution_count": 33,
   "metadata": {},
   "outputs": [
    {
     "name": "stdout",
     "output_type": "stream",
     "text": [
      "The autoreload extension is already loaded. To reload it, use:\n",
      "  %reload_ext autoreload\n"
     ]
    }
   ],
   "source": [
    "%load_ext autoreload\n",
    "%autoreload 2"
   ]
  },
  {
   "cell_type": "code",
   "execution_count": 34,
   "metadata": {},
   "outputs": [],
   "source": [
    "MAX_SENTENCE_LEN = 250\n",
    "EMBEDDING_DIM = 100"
   ]
  },
  {
   "cell_type": "code",
   "execution_count": 37,
   "metadata": {},
   "outputs": [
    {
     "name": "stderr",
     "output_type": "stream",
     "text": [
      "[nltk_data] Downloading package punkt to /Users/simone/nltk_data...\n",
      "[nltk_data]   Package punkt is already up-to-date!\n"
     ]
    }
   ],
   "source": [
    "from text_vectorizer import TextVectorizer, encode_target\n",
    "import pandas as pd\n",
    "import nltk\n",
    "from nltk.stem.porter import PorterStemmer\n",
    "nltk.download('punkt')\n",
    "\n",
    "def clean_and_split(sentence):\n",
    "    sentence = nltk.word_tokenize(sentence)\n",
    "    words = [word for word in sentence if word.isalpha()]\n",
    "    porter = PorterStemmer()\n",
    "    stemmed = [porter.stem(word) for word in words]\n",
    "    return stemmed\n",
    "\n",
    "def process_dataset(dataset_path, max_sentence_length=MAX_SENTENCE_LEN, embedding_dim=EMBEDDING_DIM, vectorizer=None):\n",
    "    data = pd.read_csv(dataset_path)\n",
    "    nl_columns = [\"Evidence\", \"Claim\"]\n",
    "    for column in nl_columns:\n",
    "        data[column] = data[column].apply(clean_and_split)\n",
    "    if not vectorizer:\n",
    "        vectorizer = TextVectorizer(max_sentence_length=max_sentence_length, embedding_dim=embedding_dim)\n",
    "    embedding_matrix = vectorizer.adapt(data, nl_columns)\n",
    "    X_claim, X_evidence= vectorizer.transform(data, nl_columns)\n",
    "    y = encode_target(data[\"Label\"])\n",
    "    return X_claim, X_evidence, y, embedding_matrix, vectorizer\n"
   ]
  },
  {
   "cell_type": "code",
   "execution_count": 38,
   "metadata": {},
   "outputs": [
    {
     "name": "stdout",
     "output_type": "stream",
     "text": [
      "Generated embeddings for 187 OOV words.\n"
     ]
    },
    {
     "name": "stderr",
     "output_type": "stream",
     "text": [
      "100it [00:00, 2713.78it/s]\n"
     ]
    }
   ],
   "source": [
    "X_train_claim, X_train_evidence, y_train, embedding_matrix, vectorizer = process_dataset('dataset/train_pairs.csv')\n",
    "# X_val_claim, X_val_evidence, y_val, embedding_matrix, vectorizer = process_dataset('dataset/val_pairs.csv', vectorizer=vectorizer)\n",
    "# X_test_claim, X_test_evidence, y_test, embedding_matrix, vectorizer = process_dataset('dataset/test_pairs.csv', vectorizer=vectorizer)"
   ]
  },
  {
   "cell_type": "code",
   "execution_count": 48,
   "metadata": {},
   "outputs": [
    {
     "name": "stdout",
     "output_type": "stream",
     "text": [
      "Model: \"model_6\"\n",
      "__________________________________________________________________________________________________\n",
      " Layer (type)                   Output Shape         Param #     Connected to                     \n",
      "==================================================================================================\n",
      " claim (InputLayer)             [(None, 250)]        0           []                               \n",
      "                                                                                                  \n",
      " evidence (InputLayer)          [(None, 250)]        0           []                               \n",
      "                                                                                                  \n",
      " claim_masking (Masking)        (None, 250)          0           ['claim[0][0]']                  \n",
      "                                                                                                  \n",
      " evidence_masking (Masking)     (None, 250)          0           ['evidence[0][0]']               \n",
      "                                                                                                  \n",
      " claim_embedding (Embedding)    (None, 250, 100)     40018800    ['claim_masking[0][0]']          \n",
      "                                                                                                  \n",
      " evidence_embedding (Embedding)  (None, 250, 100)    40018800    ['evidence_masking[0][0]']       \n",
      "                                                                                                  \n",
      " claim_lstm (LSTM)              (None, 100)          80400       ['claim_embedding[0][0]']        \n",
      "                                                                                                  \n",
      " evidence_lstm (LSTM)           (None, 100)          80400       ['evidence_embedding[0][0]']     \n",
      "                                                                                                  \n",
      " concatenate_7 (Concatenate)    (None, 200)          0           ['claim_lstm[0][0]',             \n",
      "                                                                  'evidence_lstm[0][0]']          \n",
      "                                                                                                  \n",
      " cos_similarity (Dot)           (None, 1)            0           ['claim_lstm[0][0]',             \n",
      "                                                                  'evidence_lstm[0][0]']          \n",
      "                                                                                                  \n",
      " concatenate_8 (Concatenate)    (None, 201)          0           ['concatenate_7[0][0]',          \n",
      "                                                                  'cos_similarity[0][0]']         \n",
      "                                                                                                  \n",
      " dense_12 (Dense)               (None, 128)          25856       ['concatenate_8[0][0]']          \n",
      "                                                                                                  \n",
      " dense_13 (Dense)               (None, 1)            129         ['dense_12[0][0]']               \n",
      "                                                                                                  \n",
      "==================================================================================================\n",
      "Total params: 80,224,385\n",
      "Trainable params: 186,785\n",
      "Non-trainable params: 80,037,600\n",
      "__________________________________________________________________________________________________\n"
     ]
    }
   ],
   "source": [
    "import tensorflow as tf\n",
    "\n",
    "def build_model_1(embedding_matrix, merging_mode=\"concat\", cosine_similarity=True):\n",
    "    assert merging_mode in [\"concat\", \"add\", \"mean\"]\n",
    "    claim_input = tf.keras.layers.Input(shape=(MAX_SENTENCE_LEN), name=\"claim\")\n",
    "    claim_masking = tf.keras.layers.Masking(mask_value=0, name=\"claim_masking\")(claim_input)\n",
    "    evidence_input = tf.keras.layers.Input(shape=(MAX_SENTENCE_LEN), name=\"evidence\")\n",
    "    evidence_masking = tf.keras.layers.Masking(mask_value=0, name=\"evidence_masking\")(evidence_input)\n",
    "    claim_embedding = tf.keras.layers.Embedding(embedding_matrix.shape[0], embedding_matrix.shape[1], weights=[embedding_matrix], trainable=False, name=\"claim_embedding\")(claim_masking)\n",
    "    evidence_embedding = tf.keras.layers.Embedding(embedding_matrix.shape[0], embedding_matrix.shape[1], weights=[embedding_matrix], trainable=False, name=\"evidence_embedding\")(evidence_masking)\n",
    "    claim_lstm = tf.keras.layers.LSTM(units=EMBEDDING_DIM, name=\"claim_lstm\")(claim_embedding)\n",
    "    evidence_lstm = tf.keras.layers.LSTM(units=EMBEDDING_DIM, name=\"evidence_lstm\")(evidence_embedding)\n",
    "    if merging_mode == \"concat\":\n",
    "        merged = tf.keras.layers.concatenate([claim_lstm, evidence_lstm])\n",
    "    elif merging_mode == \"add\":\n",
    "        merged = tf.keras.layers.add([claim_lstm, evidence_lstm])\n",
    "    elif merging_mode == \"mean\":\n",
    "        merged = tf.keras.layers.average([claim_lstm, evidence_lstm])\n",
    "    if cosine_similarity:\n",
    "        cos_similarity = tf.keras.layers.Dot(axes=1, name=\"cos_similarity\")([claim_lstm, evidence_lstm])\n",
    "        merged = tf.keras.layers.concatenate([merged, cos_similarity])\n",
    "    dense = tf.keras.layers.Dense(units=128)(merged)\n",
    "    dense = tf.keras.layers.Dense(units=1, activation=\"sigmoid\")(dense)\n",
    "    model = tf.keras.Model(inputs=[claim_input, evidence_input], outputs=dense)\n",
    "    model.compile(optimizer=\"adam\", loss=\"binary_crossentropy\", metrics=[\"accuracy\"])\n",
    "    return model\n",
    "\n",
    "model = build_model_1(embedding_matrix=embedding_matrix)\n",
    "model.summary()"
   ]
  },
  {
   "cell_type": "code",
   "execution_count": 49,
   "metadata": {},
   "outputs": [
    {
     "name": "stdout",
     "output_type": "stream",
     "text": [
      "Epoch 1/10\n",
      "4/4 [==============================] - 8s 173ms/step - loss: 0.6762 - accuracy: 0.6700\n",
      "Epoch 2/10\n",
      "4/4 [==============================] - 1s 148ms/step - loss: 0.5778 - accuracy: 0.9100\n",
      "Epoch 3/10\n",
      "4/4 [==============================] - 1s 130ms/step - loss: 0.3921 - accuracy: 0.9100\n",
      "Epoch 4/10\n",
      "4/4 [==============================] - 1s 125ms/step - loss: 0.3060 - accuracy: 0.9100\n",
      "Epoch 5/10\n",
      "4/4 [==============================] - 1s 128ms/step - loss: 0.3728 - accuracy: 0.9100\n",
      "Epoch 6/10\n",
      "4/4 [==============================] - 1s 129ms/step - loss: 0.3914 - accuracy: 0.9100\n",
      "Epoch 7/10\n",
      "4/4 [==============================] - 1s 142ms/step - loss: 0.3838 - accuracy: 0.9100\n",
      "Epoch 8/10\n",
      "4/4 [==============================] - 1s 129ms/step - loss: 0.3592 - accuracy: 0.9100\n",
      "Epoch 9/10\n",
      "4/4 [==============================] - 1s 153ms/step - loss: 0.3301 - accuracy: 0.9100\n",
      "Epoch 10/10\n",
      "4/4 [==============================] - 1s 122ms/step - loss: 0.3157 - accuracy: 0.9100\n"
     ]
    },
    {
     "data": {
      "text/plain": [
       "<keras.callbacks.History at 0x7fed38b998b0>"
      ]
     },
     "execution_count": 49,
     "metadata": {},
     "output_type": "execute_result"
    }
   ],
   "source": [
    "model.fit({\"claim\": X_train_claim, \"evidence\": X_train_evidence}, y_train, epochs=10, batch_size=32)"
   ]
  },
  {
   "cell_type": "markdown",
   "metadata": {},
   "source": [
    "The following is just a test to show that the cosine similarity is computed correctly using TensorFlow."
   ]
  },
  {
   "cell_type": "code",
   "execution_count": 59,
   "metadata": {},
   "outputs": [
    {
     "name": "stdout",
     "output_type": "stream",
     "text": [
      "[[0.9621285]] [[0.96212862]]\n"
     ]
    }
   ],
   "source": [
    "from sklearn.metrics.pairwise import cosine_similarity\n",
    "import numpy as np\n",
    "\n",
    "a, b = np.array([[1, 2, 3, 4, 5, 6]]), np.array([[7, 8, 9,10, 11, 12]])\n",
    "a_tensor = tf.convert_to_tensor(a, dtype=tf.float32)\n",
    "b_tensor = tf.convert_to_tensor(b, dtype=tf.float32)\n",
    "sim_sk = cosine_similarity(a, b)\n",
    "sim_tf = tf.keras.layers.Dot(axes=1, normalize=True)([a_tensor, b_tensor])\n",
    "sim_tf = tf.keras.backend.eval(sim_tf)\n",
    "print(sim_tf, sim_sk)"
   ]
  },
  {
   "cell_type": "markdown",
   "metadata": {
    "id": "RbH_8errW5MH"
   },
   "source": [
    "# Classification dataset\n",
    "\n",
    "At this point, you should have a reay-to-go dataset! Note that the dataset format changed as well! In particular, we split the evidence set associated to each claim, in order to build `(claim, evidence)` pairs. The classification label is propagated as well.\n",
    "\n",
    "We'll motivate this decision in the next section!\n",
    "\n",
    "Just for clarity, here's an example of the pre-processed dataset:\n",
    "\n",
    "---\n",
    "\n",
    "**Claim**: \"Wentworth Miller is yet to make his screenwriting debut.\"\n",
    "\n",
    "**Evidence**: \"2\tHe made his screenwriting debut with the 2013 thriller film Stoker .\tStoker\tStoker (film)\"\n",
    "\n",
    "**Label**: Refutes\n",
    "\n",
    "---\n",
    "\n",
    "[**Note**]: The dataset requires some text cleaning as you may have noticed!\n"
   ]
  },
  {
   "cell_type": "markdown",
   "metadata": {
    "id": "gH8hIK21Xrl0"
   },
   "source": [
    "# Problem formulation\n",
    "\n",
    "As mentioned at the beginning of the assignment, we are going to formulate the fact checking problem as a binary classification task.\n",
    "\n",
    "In particular, each dataset sample is comprised of:\n",
    "\n",
    "*     A claim to verify\n",
    "*     A set of semantically related statements (evidence set)\n",
    "*     Fact checking label: either evidences support or refute the claim.\n",
    "\n",
    "Handling the evidence set from the point of view of neural models may imply some additional complexity: if the evidence set is comprised of several sentences we might incur in memory problems.\n",
    "\n",
    "To this end, we further simplify the problem by building (claim, evidence) pairs. The fact checking label is propagated as well.\n",
    "\n",
    "Example:\n",
    "\n",
    "     Claim: c1 \n",
    "     Evidence set: [e1, e2, e3]\n",
    "     Label: S (support)\n",
    "\n",
    "--->\n",
    "\n",
    "    (c1, e1, S),\n",
    "    (c1, e2, S),\n",
    "    (c1, e3, S)"
   ]
  },
  {
   "cell_type": "markdown",
   "metadata": {
    "id": "E46flIz_zQy-"
   },
   "source": [
    "## 4.1 Schema\n",
    "\n",
    "The overall binary classification problem is summed up by the following (simplified) schema\n",
    "\n",
    "![](https://drive.google.com/uc?export=view&id=1Wm_YBnFwgJtxcWEBpPbTBEVkpKaL08Jp)\n",
    "\n",
    "Don't worry too much about the **Encoding** block for now. We'll give you some simple guidelines about its definition. For the moment, stick to the binary classification task definition where, in this case, we have 2 inputs: the claim to verify and one of its associated evidences."
   ]
  },
  {
   "cell_type": "markdown",
   "metadata": {
    "id": "LsiTV-NVdgsF"
   },
   "source": [
    "# Architecture Guidelines\n",
    "\n",
    "There are many neural architectures that follow the above schema. To avoid phenomena like the writer's block, in this section we are going to give you some implementation guidelines.\n",
    "\n",
    "In particular, we would like you to test some implementations so that you explore basic approaches (neural baselines) and use them as building blocks for possible extensions."
   ]
  },
  {
   "cell_type": "markdown",
   "metadata": {
    "id": "ZJBQm47fe7iE"
   },
   "source": [
    "## 5.1 Handling multiple inputs\n",
    "\n",
    "The first thing to notice is that we are in a multi-input scenario. In particular, each sample is comprised of a fact and its asssociated evidence statement.\n",
    "\n",
    "Each of these input is encoded as a sequence of tokens. In particular, we will have the following input matrices:\n",
    "\n",
    "*    Claim: `[batch_size, max_tokens]`\n",
    "*    Evidence: `[batch_size, max_tokens]`\n",
    "\n",
    "Moreover, after the embedding layer, we'll have:\n",
    "\n",
    "*    Claim: `[batch_size, max_tokens, embedding_dim]`\n",
    "*    Evidence: `[batch_size, max_tokens, embedding_dim]`\n",
    "\n",
    "But, we would like to have a 2D input to our classifier, since we have to give an answer at pair level. Therefore, for each sample, we would expect the following input shape to our classification block:\n",
    "\n",
    "*   Classification input shape: `[batch_size, dim]`\n",
    "\n",
    "**How to do that?**\n",
    "\n",
    "We inherently need to reduce the token sequence to a single representation. This operation is formally known as **sentence embedding**. Indeed, we are trying to compress the information of a whole sequence into a single embedding vector.\n",
    "\n",
    "Here are some simple solutions that we ask you to try out:\n",
    "\n",
    "1.   Encode token sequences via a RNN and take the last state as the sentence embedding.\n",
    "\n",
    "2.  Encode token sequences via a RNN and average all the output states.\n",
    "\n",
    "3.  Encode token sequences via a simple MLP layer. In particular, if your input is a `[batch_size, max_tokens, embedding_dim]` tensor, the matrix multiplication works on the **max_tokens** dimension, resulting in a `[batch_size, embedding_dim]` 2D matrix. Alternatively, you can reshape the 3D input tensor from `[batch_size, max_tokens, embedding_dim]` to `[batch_size, max_tokens * embedding_dim]` and then apply the MLP layer.\n",
    "\n",
    "4.   Compute the sentence embedding as the mean of its token embeddings (**bag of vectors**)."
   ]
  },
  {
   "cell_type": "markdown",
   "metadata": {
    "id": "Gypl5z5ElJo1"
   },
   "source": [
    "## 5.2 Merging multi-inputs\n",
    "\n",
    "At this point, we have to think about **how** we should merge evidence and claim sentence embeddings.\n",
    "\n",
    "For simplicity, we stick to simple merging strategies:\n",
    "\n",
    "*     **Concatenation**: define the classification input as the concatenation of evidence and claim sentence embeddings\n",
    "\n",
    "*     **Sum**: define the classification input as the sum of evidence and claim sentence embeddings\n",
    "\n",
    "*     **Mean**: define the classification input as the mean of evidence and claim sentence embeddings\n",
    "\n",
    "For clarity, if the sentence embedding of a single input has shape `[batch_size, embedding_dim]`, then the classification input has shape:\n",
    "\n",
    "*     **Concatenation**: `[batch_size, 2 * embedding_dim]`\n",
    "\n",
    "*     **Sum**: `[batch_size, embedding_dim]`\n",
    "\n",
    "*     **Mean**: `[batch_size, embedding_dim]`"
   ]
  },
  {
   "cell_type": "markdown",
   "metadata": {
    "id": "IhVg9ZLymOUc"
   },
   "source": [
    "# A simple extension\n",
    "\n",
    "Lastly, we ask you to modify previously defined neural architectures by adding an additional feature to the classification input.\n",
    "\n",
    "We would like to see if some similarity information between the claim to verify and one of its associated evidence might be useful to the classification.\n",
    "\n",
    "Compute the cosine similarity metric between the two sentence embeddings and concatenate the result to the classification input.\n",
    "\n",
    "For clarity, since the cosine similarity of two vectors outputs a scalar value, the classification input shape is modified as follows:\n",
    "\n",
    "*     **Concatenation**: `[batch_size, 2 * embedding_dim + 1]`\n",
    "\n",
    "*     **Sum**: `[batch_size, embedding_dim + 1]`\n",
    "\n",
    "*     **Mean**: `[batch_size, embedding_dim + 1]`\n",
    "\n"
   ]
  },
  {
   "cell_type": "code",
   "execution_count": null,
   "metadata": {},
   "outputs": [],
   "source": [
    "# id_claim: [id_ev1, id_ev]\n",
    "\n",
    "# X_test_evidence[id_ev1]\n",
    "# X_test_evidence[id_ev2]"
   ]
  },
  {
   "cell_type": "markdown",
   "metadata": {
    "id": "Nd74ULgpnJrc"
   },
   "source": []
  },
  {
   "cell_type": "code",
   "execution_count": null,
   "outputs": [],
   "source": [
    "def evaluate_model(model, X_test, y_test):\n",
    "  \"\"\"\n",
    "  show classification report using model to predict output on X_test\n",
    "  \"\"\"\n",
    "  y_pred = model.predict(X_test)\n",
    "  print(classification_report(y_test, y_pred, labels=[0,1], target_names=['REFUTED', 'SUPPORTED']))"
   ],
   "metadata": {
    "collapsed": false,
    "pycharm": {
     "name": "#%%\n"
    }
   }
  },
  {
   "cell_type": "code",
   "execution_count": null,
   "outputs": [],
   "source": [
    "def show_details(claim_id, evidences_id, true_label, predicted_labels):\n",
    "  \"\"\"\n",
    "  Show formatted details of claim verification evaluation\n",
    "  \"\"\"\n",
    "  print(f\"Claim: c{claim_id}\")\n",
    "  print(\"Evidence set: \", end='')\n",
    "  for i,id in enumerate(evidences_id):\n",
    "    if i == 0:\n",
    "      print(f\"e{id}\", end='')\n",
    "    else:\n",
    "      print(f\",e{id}\", end='')\n",
    "  print('')\n",
    "  label = \"S\" if true_label == 1 else \"R\"\n",
    "  print(f\"True label: {label}\")\n",
    "  print(\"\\n\")\n",
    "  print(\"Pair outputs:\")\n",
    "  for i,id in enumerate(evidences_id):\n",
    "    label = \"S\" if predicted_labels[i] == 1 else \"R\"\n",
    "    word = \"supports\" if predicted_labels[i] == 1 else \"refutes\"\n",
    "    print(f\"(c{claim_id}, e{id}) -> {label} ({word})\")\n",
    "  print(\"\\n\")\n",
    "  num_evidences = len(predicted_labels)\n",
    "  positive = np.count_nonzero(predicted_labels)\n",
    "  negative = num_evidences - positive\n",
    "  print(\"Majority voting:\")\n",
    "  if positive == 1:\n",
    "    print(f\"S -> {positive} vote\")\n",
    "  else:\n",
    "    print(f\"S -> {positive} votes\")\n",
    "  if negative == 1:\n",
    "    print(f\"R -> {negative} vote\")\n",
    "  else:\n",
    "    print(f\"R -> {negative} votes\")\n",
    "  print(\"\\n\")\n",
    "  print(\"Final label:\")\n",
    "  final = \"S\" if positive > negative else \"R\"\n",
    "  print(f\"c{claim_id} -> {final}\")\n",
    "\n",
    "# testing function\n",
    "claim_id = 1\n",
    "evidences_id = [1,2,3]\n",
    "true_label = 1\n",
    "predicted_labels = np.array([1,0,1])\n",
    "\n",
    "show_details(claim_id, evidences_id, true_label, predicted_labels)"
   ],
   "metadata": {
    "collapsed": false,
    "pycharm": {
     "name": "#%%\n"
    }
   }
  },
  {
   "cell_type": "code",
   "execution_count": null,
   "outputs": [],
   "source": [
    "def claim_verification(model, X_test, y_test, claim_dict, verbose=False):\n",
    "  \"\"\"\n",
    "  classification report of test set but taking into account metrics for each claim\n",
    "\n",
    "  Parameters:\n",
    "  ------------------------------------------\n",
    "  model: ANN to use to predict the output\n",
    "  X_test: list of claims and evidences\n",
    "  y_test: true output\n",
    "  claim_dict: dictionary which maps each claim with its evidences\n",
    "  verbose: whether to show a detailed report of majority vote for each claim or not\n",
    "  \"\"\"\n",
    "  num_claims = len(claim_dict.keys())\n",
    "  # classification at claim level\n",
    "  y_true_claim = []\n",
    "  y_pred_claim = []\n",
    "  start = 0 # position of the first evidence for the conidered claim\n",
    "  for claim in claim_dict.keys():\n",
    "    # for each claim majority vote is applied\n",
    "    num_evidences = len(claim_dict[claim])\n",
    "    # test for a single claim\n",
    "    X_claim = [X_test[0][start:start+num_evidences,:], X_test[1][start:start+num_evidences,:]]\n",
    "    y_true = 1 if np.mean(y_test[start:start+num_evidences]) > 0.5 else 0\n",
    "    y_claim = model.predict(X_claim)\n",
    "    y_pred = 1 if np.mean(y_claim) >= 0.5 else 0\n",
    "\n",
    "    if verbose:\n",
    "      show_details(claim, claim_dict[claim], y_true, y_pred)\n",
    "\n",
    "    y_true_claim.append(y_true)\n",
    "    y_pred_claim.append(y_pred)\n",
    "\n",
    "    start += num_evidences\n",
    "\n",
    "  # evaluation of performance at claim level\n",
    "  print(classification_report(y_true_claim, y_pred_claim, labels=[0,1], target_names=['REFUTED', 'SUPPORTED']))"
   ],
   "metadata": {
    "collapsed": false,
    "pycharm": {
     "name": "#%%\n"
    }
   }
  },
  {
   "cell_type": "markdown",
   "metadata": {
    "id": "W4LJ2yPxsUOV"
   },
   "source": [
    "# Tips and Extras"
   ]
  },
  {
   "cell_type": "markdown",
   "metadata": {
    "id": "Uf80UVRNrXve"
   },
   "source": [
    "## 8.1 Extensions are welcome!\n",
    "\n",
    "Is this task too easy for you? Are you curious to try out things you have seen during lectures (e.g. attention)? Feel free to try everything you want!\n",
    "\n",
    "**Don't forget to try neural baselines first!**"
   ]
  },
  {
   "cell_type": "markdown",
   "metadata": {
    "id": "COXeCXdYsBEf"
   },
   "source": [
    "## 8.2 Comments and documentation\n",
    "\n",
    "Remember to properly comment your code (it is not necessary to comment each single line) and don't forget to describe your work!"
   ]
  },
  {
   "cell_type": "markdown",
   "metadata": {
    "id": "Ejv6SDE8xc4_"
   },
   "source": [
    "## 8.3 Organization\n",
    "\n",
    "We suggest you to divide your work into sections. This allows you to build clean and modular code, as well as easy to read and to debug.\n",
    "\n",
    "A possible schema:\n",
    "\n",
    "*   Dataset pre-processing\n",
    "*   Dataset conversion\n",
    "*   Model definition\n",
    "*   Training\n",
    "*   Evaluation\n",
    "*   Comments/Summary"
   ]
  },
  {
   "cell_type": "markdown",
   "metadata": {
    "id": "19QWjgGzIKOq"
   },
   "source": [
    "# Evaluation\n",
    "\n",
    "Which are the evaluation criteria on which we'll judge you and your work?\n",
    "\n",
    "1. Pre-processing: whether you have done some pre-processing or not.\n",
    "2. Sentence embedding: you should implement all required strategies (with an example and working code for each). That is, we, as evaluators, should be able to test all strategies without writing down new code.\n",
    "3. Multiple inputs merging strategies: you should implement all required strategies (with an example and working code for each).\n",
    "4. Similarity extension: you should implement the cosine similarity extension (with an example and working code).\n",
    "5. Voting strategy: you should implement the majority voting strategy and provide results.\n",
    "6. Report: when submitting your notebook, you should also attach a small summary report that describes what you have done (provide motivations as well for abitrary steps. For instance, \"We've applied L2 regularization since the model was overfitting\".\n",
    "\n",
    "Extras (possible extra points):\n",
    "\n",
    "1. Any well defined extension is welcome!\n",
    "2. Well organized and commented code is as important as any other criteria."
   ]
  },
  {
   "cell_type": "markdown",
   "metadata": {
    "id": "9DR70uh7pabo"
   },
   "source": [
    "# Contact\n",
    "\n",
    "For any doubt, question, issue or help, you can always contact us at the following email addresses:\n",
    "\n",
    "Teaching Assistants:\n",
    "\n",
    "* Andrea Galassi -> a.galassi@unibo.it\n",
    "* Federico Ruggeri -> federico.ruggeri6@unibo.it\n",
    "\n",
    "Professor:\n",
    "\n",
    "* Paolo Torroni -> p.torroni@unibo.it\n",
    "\n",
    "*Note*: We highly recommend you to check the [course useful material](https://virtuale.unibo.it/pluginfile.php/1036039/mod_resource/content/2/NLP_Course_Useful_Material.pdf) for additional information before contacting us!"
   ]
  },
  {
   "cell_type": "markdown",
   "metadata": {
    "id": "Jc0gNWU2pgKQ"
   },
   "source": [
    "# FAQ\n",
    "\n",
    "---\n",
    "\n",
    "**Question**: Can I do something text pre-processing?\n",
    "\n",
    "**Answer:** You have to! If you check text data, the majority of sentences need some cleaning.\n",
    "\n",
    "---\n",
    "\n",
    "**Question**: The model architecture schema is not so clear, are we doing end-to-end training?\n",
    "\n",
    "**Answer**: Exactly! All models can be thought as:\n",
    "\n",
    "1. Input\n",
    "2. (word) Embedding\n",
    "3. Sentence embedding\n",
    "4. Multiple inputs merging\n",
    "5. Classification\n",
    "\n",
    "---\n",
    "\n",
    "**Question**: Can I extend models by adding more layers?\n",
    "\n",
    "**Answer**: Feel free to define model architectures as you wish, but remember satisfy our requirements. This assignment should not be thought as a competition to achieve the best performing model: fancy students that want to show off but miss required assignment objectives will be punished!!\n",
    "\n",
    "---\n",
    "\n",
    "**Question**: I'm struggling with the implementation. Can you help me?\n",
    "\n",
    "**Answer**: Yes sure! Contact us and describe your issue. If you are looking for a particular type of operation, you can easily check the documentation of the deep learning framework you are using (google is your friend).\n",
    "\n",
    "---\n",
    "\n",
    "**Question**: Can I try other encoding strategies or neural architectures?\n",
    "\n",
    "**Answer:** Absolutely! Remember to try out recommended neural baselines first and only then proceed with your extensions.\n",
    "\n",
    "---\n",
    "\n",
    "**Question**: Do we have to test all possible sentence embedding and input merging combinations?\n",
    "\n",
    "**Answer**: Absolutely no! Feel free to pick one sentence embedding strategy and try all possible input merging strategies with it! For instance, pick the best performing sentence embedding method and proceed with next steps (extras included). Please, note that you still have to implement all mentioned strategies!\n",
    "\n",
    "---\n",
    "\n",
    "**Question**: I'm hitting out of memory error when training my models, do you have any suggestions?\n",
    "\n",
    "**Answer**: Here are some common workarounds:\n",
    "\n",
    "1. Try decreasing the mini-batch size\n",
    "2. Try applying a different padding strategy (if you are applying padding): e.g. use quantiles instead of maximum sequence length\n",
    "3. Check the efficiency of your custom code implementation (if any)\n",
    "4. Try to define same length mini-batches to avoid padding (**It should not be necessary here!**)\n",
    "\n",
    "---\n",
    "\n",
    "**Question**: I'm hitting CUDNN_STATUS_BAD_PARAM error! What I'm doing wrong?\n",
    "\n",
    "**Answer**: This error is a little bit tricky since the stack trace is not meaningful at all! This error occurs when the RNN is fed with a sequence of all 0s and pad masking is enabled (e.g. from the embedding layer). Please, check your conversion step, since there might be an error that leads to the encoding of a sentence to all 0s.\n",
    "\n",
    "---"
   ]
  }
 ],
 "metadata": {
  "colab": {
   "name": "Assignment_2.ipynb",
   "provenance": [],
   "toc_visible": true
  },
  "kernelspec": {
   "display_name": "Python 3",
   "name": "python3"
  },
  "language_info": {
   "codemirror_mode": {
    "name": "ipython",
    "version": 3
   },
   "file_extension": ".py",
   "mimetype": "text/x-python",
   "name": "python",
   "nbconvert_exporter": "python",
   "pygments_lexer": "ipython3",
   "version": "3.9.7"
  }
 },
 "nbformat": 4,
 "nbformat_minor": 0
}